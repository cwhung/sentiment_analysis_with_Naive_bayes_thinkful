{
 "cells": [
  {
   "cell_type": "code",
   "execution_count": 1,
   "metadata": {},
   "outputs": [],
   "source": [
    "import pandas as pd\n",
    "import numpy as np\n",
    "import matplotlib.pyplot as plt\n",
    "import urllib.request\n",
    "import seaborn as sns\n",
    "import scipy.stats as stats\n",
    "import statsmodels.api as sm\n",
    "import statsmodels.stats"
   ]
  },
  {
   "cell_type": "code",
   "execution_count": 2,
   "metadata": {},
   "outputs": [],
   "source": [
    "# input data\n",
    "feedback_raw = pd.read_csv('yelp_labelled.txt', delimiter= '\\t', header=None)\n",
    "\n",
    "# name columns\n",
    "feedback_raw.columns=['text', 'target']"
   ]
  },
  {
   "cell_type": "code",
   "execution_count": 3,
   "metadata": {
    "code_folding": []
   },
   "outputs": [],
   "source": [
    "# tokenizer\n",
    "from nltk.tokenize import word_tokenize\n",
    "\n",
    "\n",
    "# split the data into training set and test set\n",
    "from sklearn.model_selection import train_test_split\n",
    "X_train, X_test, y_train, y_test = train_test_split(feedback_raw['text'].values, \n",
    "                 feedback_raw['target'].values,        \n",
    "                 test_size=0.2)\n",
    "\n",
    "# vectorizer\n",
    "from sklearn.feature_extraction.text import CountVectorizer\n",
    "vect = CountVectorizer(tokenizer=word_tokenize)\n",
    "tf_train = vect.fit_transform(X_train)\n",
    "tf_test = vect.transform(X_test)\n",
    "\n",
    "\n"
   ]
  },
  {
   "cell_type": "code",
   "execution_count": 4,
   "metadata": {},
   "outputs": [
    {
     "name": "stdout",
     "output_type": "stream",
     "text": [
      "the accuracy of logistic regression is :0.82\n"
     ]
    }
   ],
   "source": [
    "# logistic regression\n",
    "from sklearn.linear_model import LogisticRegression\n",
    "model = LogisticRegression(random_state=0, solver='lbfgs', multi_class='multinomial')\n",
    "model.fit(tf_train, y_train)\n",
    "preds = model.predict(tf_test)\n",
    "accuracy = (preds == y_test).mean()\n",
    "print('the accuracy of logistic regression is :{}'.format(accuracy))"
   ]
  },
  {
   "cell_type": "code",
   "execution_count": 5,
   "metadata": {},
   "outputs": [
    {
     "name": "stdout",
     "output_type": "stream",
     "text": [
      "the accuracy of multinomial naive bayes is :0.815\n"
     ]
    }
   ],
   "source": [
    "# multinomial naive bayes model\n",
    "from sklearn.naive_bayes import MultinomialNB\n",
    "modelMNB = MultinomialNB()\n",
    "modelMNB.fit(tf_train, y_train)\n",
    "preds = modelMNB.predict(tf_test)\n",
    "accuracy = (preds == y_test).mean()\n",
    "print('the accuracy of multinomial naive bayes is :{}'.format(accuracy))"
   ]
  },
  {
   "cell_type": "code",
   "execution_count": 6,
   "metadata": {},
   "outputs": [
    {
     "name": "stdout",
     "output_type": "stream",
     "text": [
      "the accuracy for new data set using logistic regression is :0.748\n"
     ]
    }
   ],
   "source": [
    "# use another file as the test 2\n",
    "test_raw = pd.read_csv('amazon_cells_labelled.txt', delimiter= '\\t', header=None)\n",
    "test_raw.columns=['text', 'target']\n",
    "X_test = test_raw['text'].values\n",
    "y_test = test_raw['target'].values\n",
    "tf_test = vect.transform(X_test)\n",
    "preds = model.predict(tf_test)\n",
    "accuracy = (preds == y_test).mean()\n",
    "print('the accuracy for new data set using logistic regression is :{}'.format(accuracy))"
   ]
  },
  {
   "cell_type": "code",
   "execution_count": 7,
   "metadata": {},
   "outputs": [
    {
     "name": "stdout",
     "output_type": "stream",
     "text": [
      "the accuracy for new data set using multinomial naive bayes is :0.738\n"
     ]
    }
   ],
   "source": [
    "preds = modelMNB.predict(tf_test)\n",
    "accuracy = (preds == y_test).mean()\n",
    "print('the accuracy for new data set using multinomial naive bayes is :{}'.format(accuracy))"
   ]
  },
  {
   "cell_type": "markdown",
   "metadata": {},
   "source": [
    "Logistic Regression model and Multinomial Naive bayes regression model are used to the origianl dataset (yelp) and the new dataset (amazon).  In the yelp dataset, the accuracy is 0.82 while in amazon dataset, the accuracy is 0.74.  "
   ]
  },
  {
   "cell_type": "code",
   "execution_count": null,
   "metadata": {},
   "outputs": [],
   "source": []
  }
 ],
 "metadata": {
  "kernelspec": {
   "display_name": "Python 3",
   "language": "python",
   "name": "python3"
  },
  "language_info": {
   "codemirror_mode": {
    "name": "ipython",
    "version": 3
   },
   "file_extension": ".py",
   "mimetype": "text/x-python",
   "name": "python",
   "nbconvert_exporter": "python",
   "pygments_lexer": "ipython3",
   "version": "3.7.3"
  },
  "toc": {
   "base_numbering": 1,
   "nav_menu": {},
   "number_sections": true,
   "sideBar": true,
   "skip_h1_title": false,
   "title_cell": "Table of Contents",
   "title_sidebar": "Contents",
   "toc_cell": false,
   "toc_position": {},
   "toc_section_display": true,
   "toc_window_display": false
  }
 },
 "nbformat": 4,
 "nbformat_minor": 2
}
