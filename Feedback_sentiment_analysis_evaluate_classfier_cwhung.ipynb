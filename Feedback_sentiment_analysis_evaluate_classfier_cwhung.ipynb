{
 "cells": [
  {
   "cell_type": "code",
   "execution_count": 1,
   "metadata": {},
   "outputs": [],
   "source": [
    "import pandas as pd\n",
    "import numpy as np\n",
    "import matplotlib.pyplot as plt\n",
    "import urllib.request\n",
    "import seaborn as sns\n",
    "import scipy.stats as stats\n",
    "import statsmodels.api as sm\n",
    "import statsmodels.stats"
   ]
  },
  {
   "cell_type": "code",
   "execution_count": 2,
   "metadata": {},
   "outputs": [
    {
     "data": {
      "text/plain": [
       "(1000, 2)"
      ]
     },
     "execution_count": 2,
     "metadata": {},
     "output_type": "execute_result"
    }
   ],
   "source": [
    "# input data\n",
    "feedback_raw = pd.read_csv('yelp_labelled.txt', delimiter= '\\t', header=None)\n",
    "\n",
    "# name columns\n",
    "feedback_raw.columns=['text', 'target']\n",
    "feedback_raw.shape"
   ]
  },
  {
   "cell_type": "code",
   "execution_count": 3,
   "metadata": {
    "code_folding": []
   },
   "outputs": [
    {
     "name": "stdout",
     "output_type": "stream",
     "text": [
      "['!', '$', '%', '&', \"'\", \"''\", \"'d\", \"'ll\", \"'m\", \"'re\", \"'s\", \"'ve\", '(', ')', '*', '*heart*', ',', '-', '--', '-drinks', '-my', '.', '...', '..went', '.off', '.very', '.way', '/hand', '1', '10', '10+', '100', '11.99', '12', '15', '1979', '2', '20', '3', '30', '30s', '35', '4', '4.00', '40', '40min', '45', '5', '7', '7.85', '70+', '8', ':', ';', '?', '``', 'a', 'about', 'above', 'absolute', 'absolutely', 'absolutley', 'accident', 'accommodations', 'accomodate', 'accountant', 'ache', 'acknowledged', 'actual', 'actually', 'affordable', 'after', 'afternoon', 'again', 'ago', 'ahead', 'airport', 'ala', 'albondigas', 'all', 'allergy', 'almonds', 'almost', 'alone', 'also', 'although', 'always', 'am', 'amazing', 'ambiance', 'ambience', 'amount', 'an', 'and', 'angry', 'another', 'anticipated', 'any', 'anymore', 'anyone', 'anything', 'anytime', 'anyway', 'apart', 'apologize', 'apology', 'app', 'appalling', 'apparently', 'appealing', 'appetite', 'appetizers', 'approval', 'are', 'area', 'area/', 'arepas', 'aria', 'around', 'array', 'arrived', 'arrives', 'arriving', 'as', 'ask', 'asked', 'asking', 'assure', 'at', 'ate', 'atmosphere', 'atmosphere.1', 'attached', 'attack', 'attention', 'attentive', 'attitudes', 'authentic', 'average', 'avocado', 'avoid', 'away', 'awesome', 'awful', 'ayce', 'baba', 'baby', 'bachi', 'back', 'bacon', 'bad', 'bagels', 'bakery', 'baklava', 'ball', 'bamboo', 'banana', 'bar', 'barely', 'bargain', 'bars', 'bartender', 'bartenders', 'baseball', 'based', 'basically', 'batch', 'bathroom', 'bathrooms', 'batter', 'bay', 'bbq', 'be', 'beans', 'beat', 'beateous', 'beautiful', 'beautifully', 'beauty', 'because', 'become', 'beef', 'been', 'been-stepped-in-and-tracked-everywhere', 'beer', 'beers', 'before', 'behind', 'being', 'believe', 'bellagio', 'bellies', 'belly', 'below', 'besides', 'best', 'better', 'between', 'beyond', 'big', 'bigger', 'bill', 'binge', 'bird', 'biscuit', 'biscuits', 'bisque', 'bit', 'bitches', 'bite', 'bites', 'bits', 'black', 'blah', 'blame', 'bland', 'blandest', 'bloddy', 'bloodiest', 'bloody', 'blow', 'blown', 'blows', 'blue', 'boba', 'bodes', 'boiled', 'book', 'boot', 'boring', 'both', 'bother', 'bottom', 'bought', 'bowl', 'box', 'boxes', 'boy', 'boyfriend', 'boys', 'bread', 'break', 'breakfast', 'breakfast/lunch', 'breaks', 'breeze', 'brick', 'bring', 'brings', 'brisket', 'brother', 'brought', 'brunch', 'bruschetta', 'bucks', 'buffet', 'bug', 'building', 'buldogis', 'bunch', 'burger', 'burgers', 'burned', 'burrittos', 'bus', 'business', 'businesses', 'bussell', 'busy', 'but', 'butter', 'buying', 'by', 'ca', 'caballero', 'cafe', 'cakes', 'calamari', 'call', 'calligraphy', 'callings', 'came', 'camelback', 'can', 'cannoli', 'cant', 'cape', 'capers', 'car', 'carbs', 'care', 'caring', 'carly', 'carpaccio', 'cart', 'cartel', 'case', 'cash', 'cashew', 'cashier', 'caterpillar', 'caught', 'certainly', 'chai', 'chains', 'changing', 'char', 'charcoal', 'charge', 'charged', 'charming', 'cheap', 'check', 'checked', 'cheek', 'cheese', 'cheeseburger', 'cheesecurds', 'chef', 'chefs', 'chewy', 'chicken', 'chickens', 'chinese', 'chip', 'chipolte', 'chips', 'chocolate', 'choose', 'choux', 'chow', 'cibo', 'circumstances', 'claimed', 'classic', 'classics', 'classy/warm', 'clean', 'climbing', 'close', 'club', 'clue', 'cocktail', 'coconut', 'cod', 'coffee', 'cold', 'colder', 'color', 'combination', 'combo', 'come', 'comfortable', 'coming', 'common', 'companions', 'company', 'complain', 'complaints', 'complete', 'completely', 'con', 'concept', 'concern', 'condiment', 'connoisseur', 'consider', 'considering', 'constructed', 'contain', 'contained', 'containers', 'convenient', 'cook', 'cooked', 'cool', 'corn', 'corporation', 'correct', 'correction', 'cost', 'costco', 'cotta', 'could', 'count', 'couple', 'couples', 'coupons', 'course', 'court', 'courteous', 'covered', 'covers', 'cow', 'coziness', 'crab', 'cramming', 'cranberry', 'crawfish', 'crazy', 'cream', 'creamy', 'crepe', 'crisp', 'crispy', 'crostini', 'croutons', 'crowd', 'crowds', 'crumby', 'crust', 'crusty', 'crystals', 'crêpe', 'cuisine', 'curry', 'customer', 'customers', 'cut', 'cute', 'daily', 'damn', 'dark', 'dates', 'daughter', 'day', 'dead', 'deal', 'dealing', 'decent', 'decide', 'decided', 'decision', 'decor', 'decorated', 'dedicated', 'deeply', 'def', 'definately', 'definitely', 'degree', 'delicate', 'delicioso', 'delicious', 'deliciously', 'delight', 'delightful', 'delights', 'delish', 'deliver', 'delivery', 'denny', 'describing', 'descriptions', 'deserves', 'desired', 'despicable', 'despite', 'dessert', 'desserts', 'devine', 'did', 'die', 'difference', 'different', 'dime', 'dine', 'dining', 'dinner', 'dipping', 'dirty', 'dirty-', 'disagree', 'disappoint', 'disappointed', 'disappointing', 'disappointment', 'disapppointment', 'disaster', 'disbelief', 'discount', 'disgrace', 'disgraceful', 'disgust', 'disgusted', 'disgusting', 'dish', 'dishes', 'dispenser', 'disrespected', 'diverse', 'do', 'does', 'dog', 'doing', 'dollars', 'done', 'dont', 'donut', 'door', 'dos', 'double', 'doubt', 'douchey', 'dough', 'doughy', 'down', 'downright', 'downside', 'downtown', 'drag', 'drastically', 'drawing', 'dreamed', 'drenched', 'dressed', 'dressing', 'dried', 'driest', 'drink', 'drinking', 'drinks', 'dripping', 'drive', 'driving', 'dropped', 'drunk', 'dry', 'duck', 'dude', 'due', 'duo', 'during', 'dusted', 'dylan', 'each', 'easily', 'eat', 'eaten', 'eating', 'eclectic', 'edible', 'edinburgh', 'editing', 'eel', 'eew', 'effort', 'egg', 'eggplant', 'eggs', 'either', 'elegantly', 'elk', 'else', 'elsewhere', 'email', 'employee', 'employees', 'empty', 'end', 'ended', 'enjoy', 'enjoyable', 'enjoyed', 'enough', 'enough..', 'enthusiastic', 'entrees', 'equally', 'especially', 'establishment', 'etc', 'ethic', 'even', 'evening', 'event', 'events', 'ever', 'every', 'everyone', 'everything', 'exactly', 'excalibur', 'exceeding', 'excellent', 'exceptional', 'excuse', 'expect', 'expectations', 'expected', 'expensive', 'experience', 'experienced', 'experiencing', 'exquisite', 'extensive', 'extra', 'extremely', 'eyed', 'eyes', 'fabulous', 'fact', 'fail', 'fails', 'fairly', 'falafels', 'falling', 'family', 'fan', 'fantastic', 'far', 'fare', 'fast', 'fav', 'favor', 'favorite', 'feel', 'feeling', 'feels', 'fell', 'fella', 'fellow', 'felt', 'few', 'filet', 'fill', 'fillet', 'final', 'finally', 'find', 'fine', 'finger', 'finish', 'fireball', 'first', 'fish', 'five', 'flair', 'flat', 'flat-lined', 'flavor', 'flavored', 'flavorful', 'flavorless', 'flavors', 'flavourful', 'flirting', 'flop', 'flower', 'fluffy', 'focused', 'folks', 'food', 'food/service', 'foods', 'foot', 'for', 'forever', 'forgetting', 'forth', 'forty', 'found', 'four', 'francisco', 'freezing', 'frenchman', 'fresh', 'fridays', 'fried', 'friend', 'friendly', 'friends', 'fries', 'from', 'front', 'frozen', 'fruit', 'frustrated', 'fry', 'fs', 'fucking', 'full', 'fun', 'funny', 'further', 'ganoush', 'garden', 'gas', 'gave', 'generic', 'generous', 'genuinely', 'get', 'gets', 'getting', 'giant', 'girlfriend', 'give', 'given', 'giving', 'glad', 'glance', 'glass', 'go', 'goat', 'godfathers', 'going', 'gold', 'golden-crispy', 'gone', 'good', 'google', 'gordon', 'got', 'gourmet', 'grandmother', 'gratitude', 'grease', 'greasy', 'great', 'greatest', 'greedy', 'greek', 'green', 'greeted', 'grill', 'gringos', 'grocery', 'gross', 'ground', 'group', 'groups', 'guacamole', 'guess', 'guest', 'guy', 'guys', 'gyro', 'gyros', 'ha', 'had', 'hair', 'half', 'halibut', 'hamburger', 'han', 'hand', 'handed', 'handled', 'handling', 'hands', 'hands-down', 'hankering', 'happened', 'happier', 'happy', 'hard', 'hardest', 'hardly', 'has', 'hate', 'hated', 'haunt', 'have', 'having', 'hawaiian', 'he', 'head', 'heads', 'healthy', 'heard', 'heart', 'heat', 'heimer', 'held', 'hella', 'help', 'helped', 'helpful', 'her', 'here', 'hereas', 'high', 'highlight', 'highlighted', 'highlights', 'highly', 'him', 'hip', 'hiro', 'his', 'hit', 'hits', 'hole', 'home', 'homemade', 'honeslty', 'honest', 'honestly', 'honor', 'hooked', 'hope', 'hopefully', 'hopes', 'hoping', 'horrible', 'hospitality', 'host', 'hot', 'hottest', 'hour', 'hours', 'house', 'how', 'however', 'huevos', 'huge', 'human', 'humiliated', 'hummus', 'hunan', 'hurry', 'husband', 'hut', 'i', 'ians', 'ice', 'idea', 'if', 'ignore', 'imaginative', 'imagine', 'imagined', 'immediately', 'impeccable', 'impressed', 'in', 'inch', 'included', 'including', 'inconsiderate', 'incredible', 'incredibly', 'indian', 'indicate', 'indoor', 'industry', 'inexpensive', 'ingredients', 'insanely', 'inside', 'inspired', 'instantly', 'instead', 'insulted', 'interesting', 'interior', 'into', 'inviting', 'ironman', 'is', 'it', 'italian', 'item', 'its', 'itself', 'jalapeno', 'jamaican', 'japanese', 'jeff', 'jenni', 'jerk', 'jewel', 'job', 'joey', 'join', 'joint', 'joke', 'joy', 'judge', 'judging', 'juries', 'just', 'kabuki', 'kept', 'khao', 'kid', 'kids', 'killer', 'kind', 'kitchen', 'know', 'known', 'lack', 'lacked', 'lacking', 'ladies', 'lady', 'large', 'largely', 'las', 'last', 'lastly', 'late', 'later', 'latte', 'law', 'lawyers', 'least', 'leather', 'leave', 'leaves', 'left', 'leftover', 'legit', 'legs', 'lemon', 'less', 'let', 'letdown', 'letting', 'lettuce', 'level', 'life', 'light', 'lighter', 'lighting', 'lightly', 'like', 'liked', 'likes', 'liking', 'limited', 'list', 'listed', 'literally', 'little', 'live', 'lived', 'living', 'lobster', 'located', 'location', 'long', 'longer', 'look', 'looked', 'looking', 'looks', 'lordy', 'lost', 'lot', 'lots', 'love', 'loved', 'lovely', 'lover', 'lovers', 'loving', 'low-key', 'lox', 'loyal', 'luck', 'luke', 'lukewarm', 'lunch', 'm', 'mac', 'macarons', 'made', 'madhouse', 'madison', 'magazine', 'magic', 'main', 'maine', 'mains', 'maintaining', 'make', 'mall', 'man', 'managed', 'management', 'manager', 'mandalay', 'mango', 'many', 'margaritas', 'maria', 'market', 'martini', 'mary', 'massive', 'may', 'maybe', 'mayo', 'me', 'me..bunch', 'meal', 'meals', 'means', 'meat', 'meatballs', 'meatloaf', 'meats', 'mediocre', 'medium', 'meet', 'meh', 'mein', 'mellow', 'melt', 'memory', 'mention', 'menu', 'menu/', 'menus', 'mesquite', 'mess', 'metro', 'mexican', 'mgm', 'mid', 'might', 'military', 'milk', 'milkshake', 'min', 'mind', 'minutes', 'miss', 'missed', 'missing', 'mixed', 'mmmm', 'modern', 'moist', 'mojitos', 'mom', 'money', 'monster', 'months', 'mood', 'moods', 'more', 'mortified', 'mostly', 'mouth', 'mouthful', 'mouths', 'movies', 'mozzarella', 'much', 'multi-grain', 'multiple', 'mushroom', 'mushrooms', 'music', 'mussels', 'must', 'must-stop', 'my', \"n't\", 'naan', 'nachos', 'name', 'nan', 'nargile', 'nasty', 'nay', 'nearly', 'neat', 'need', 'needed', 'needless', 'needs', 'negligent', 'neighborhood', 'neither', 'never', 'new', 'next', 'nice', 'nicest', 'night', 'nigiri', 'ninja', 'no', 'nobu', 'non-customer', 'non-fancy', 'none', 'noodles', 'north', 'not', 'note', 'nothing', 'now', 'nude', 'number', 'nut', 'nutshell', 'nyc', 'occasional', 'occasions', 'of', 'off', 'offered', 'offers', 'officially', 'oh', 'ok', 'old', 'older', 'olives', 'omelets', 'omg', 'on', 'once', 'one', 'ones', 'only', 'opportunity', 'opposed', 'options', 'or', 'order', 'ordered', 'ordering', 'orders', 'original', 'other', 'others', 'otto', 'our', 'out', 'outdoor', 'outrageously', 'outshining', 'outside', 'outstanding', 'outta', 'oven', 'over', 'over-hip', 'over-priced', 'over-whelm', 'overall', 'overcooked', 'overhaul', 'overpriced', 'overwhelmed', 'owner', 'owner/chef', 'owners', 'oysters', 'pace', 'pack', 'packed', 'paid', 'palate', 'pale', 'pan', 'pancake', 'pancakes', 'panna', 'paper', 'par', 'paradise', 'part', 'particular', 'parties', 'party', 'passed', 'past', 'pasta', 'pastas', 'pastry', 'patio', 'patron', 'pats', 'patty', 'pay', 'paying', 'peach', 'peanut', 'peanuts', 'pears', 'peas', 'pecan', 'penne', 'people', 'pepper..and', 'perfect', 'perfection', 'perfectly', 'performed', 'perhaps', 'perpared', 'person', 'personable', 'personally', 'petrified', 'phenomenal', 'philadelphia', 'pho', 'phoenix', 'piano', 'picture', 'pictures', 'piece', 'pile', 'pine', 'pineapple', 'pink', 'pissd', 'pita', 'pizza', 'pizzas', 'place', 'placed', 'places', 'plain', 'plantains', 'plastic', 'plate', 'plater', 'platter', 'play', 'playing', 'pleasant', 'please', 'pleased', 'plethora', 'plus', 'pneumatic', 'point', 'poisoning', 'poop', 'poor', 'poorly', 'pop', 'pork', 'portion', 'portions', 'positive', 'possible', 'postinos', 'potato', 'potatoes', 'poured', 'powdered', 'prefer', 'prepared', 'preparing', 'presentation', 'pretty', 'price', 'priced', 'prices', 'pricey', 'pricing', 'prime', 'privileged', 'probably', 'problem', 'proclaimed', 'professional', 'profiterole', 'promise', 'promptly', 'properly', 'pros', 'proven', 'provided', 'provides', 'public', 'pucks', 'pulled', 'pumpkin', 'puree', 'puréed', 'put', 'putting', 'quaint', 'qualified', 'quality', 'quantity', 'quick', 'quickly', 'quite', 'ramsey', 'ranch', 'rancheros', 'rare', 'rarely', 'raspberry', 'rate', 'rated', 'rather', 'ratio', 'rave', 'raving', 'ravoli', 'readers', 'reading', 'real', 'realized', 'really', 'reason', 'reasonable', 'reasonably', 'reasons', 'recall', 'received', 'receives', 'recent', 'recently', 'recommend', 'recommendation', 'recommended', 'recommending', 'red', 'redeeming', 'reduction', 'refill', 'refrained', 'refreshing', 'refried', 'refused', 'register', 'regular', 'regularly', 'reheated', 'relationship', 'relax', 'relaxed', 'relleno', 'reminds', 'replenished', 'requested', 'reservation', 'rest', 'restaraunt', 'restaurant', 'restaurants', 'return', 'returned', 'returning', 'review', 'reviewer', 'reviewing..', 'reviews', 'revisiting', 'rge', 'ri', 'rib', 'ribeye', 'rice', 'ridiculous', 'right', 'rinse', 'ripped', 'risotto', 'roast', 'roasted', 'roll', 'rolled', 'rolls', 'room', 'rotating', 'round', 'rowdy', 'rubber', 'rude', 'rudely', 'running', 'rushed', 'ryan', 's', 'sad', 'sadly', 'saganaki', 'said', 'salad', 'salads', 'salmon', 'sals', 'salsa', 'salt', 'salty', 'same', 'sample', 'san', 'sandwich', 'sandwiches', 'sangria', 'sashimi', 'sat', 'satifying', 'satisfied', 'satisfying', 'sauce', 'sauces', 'sause', 'saving', 'say', 'scallop', 'scene', 'scottsdale', 'screams', 'screwed', 'seafood', 'seal', 'seasonal', 'seasoned', 'seat', 'seated', 'seating', 'second', 'section', 'see', 'seemed', 'seems', 'seen', 'selection', 'selections', 'self', 'send', 'sense', 'seriously', 'serivce', 'serve', 'served', 'server', 'servers', 'serves', 'service', 'service-check', 'set', 'setting', 'sever', 'several', 'sewer', 'sexy', 'shall', 'sharply', 'shawarrrrrrma', 'she', 'shirt', 'shocked', 'shoe', 'shoots', 'shop', 'shopping', 'shops', 'short', 'shots', 'should', 'show', 'showed', 'shower', 'shrimp', 'sick', 'side', 'sides', 'sign', 'signs', 'similar', 'similarly', 'simple', 'simply', 'since', 'single', 'sit-down', 'sitting', 'six', 'skimp', 'slaw', 'sliced', 'slices', 'slow', 'small', 'smashburger', 'smeared', 'smelled', 'smells', 'smooth', 'smoothies', 'so', 'soggy', 'soi', 'solid', 'some', 'somehow', 'someone', 'somethat', 'something', 'somewhat', 'son', 'songs', 'soon', 'soooo', 'sooooo', 'sorely', 'sorry', 'sound', 'soundtrack', 'soup', 'soups', 'sour', 'southwest', 'space', 'spaghetti', 'special', 'specials', 'speedy', 'spend', 'spice', 'spicier', 'spicy', 'spinach', 'sporting', 'spot', 'spots', 'spotty', 'sprouts', 'staff', 'stale', 'star', 'stars', 'started', 'starving', 'station', 'stay', 'stayed', 'staying', 'steak', 'steakhouse', 'steaks', 'steiners', 'stepped', 'sticks', 'still', 'stinks', 'stir', 'stomach', 'stop', 'stopped', 'store', 'strange', 'strangers', 'street', 'strike', 'strings', 'strip', 'struggle', 'stuff', 'stuffed', 'style', 'sub', 'sub-par', 'subway', 'succulent', 'such', 'suck', 'sucked', 'sucks', 'suffers', 'sugar', 'sugary', 'suggest', 'suggestions', 'summarize', 'summary', 'summer', 'sun', 'sunglasses', 'super', 'supposed', 'sure', 'surprise', 'sushi', 'sweet', 'swung', 't.', 'table', 'tables', 'taco', 'tacos', 'tailored', 'take', 'takeout', 'talk', 'tap', 'tartar', 'taste', 'tasted', 'tasteless', 'tastings', 'tasty', 'tater', 'tea', 'teamwork', 'tell', 'ten', 'tender', 'tenders', 'tepid', 'terrible', 'terrific', 'texture', 'thai', 'than', 'thanks', 'that', 'thats', 'the', 'theft', 'their', 'them', 'then', 'there', 'these', 'they', 'thick', 'thin', 'thing', 'things', 'think', 'thinking', 'third', 'this', 'thoroughly', 'those', 'though', 'thought', 'three', 'thrilled', 'thru', 'thumbs', 'thus', 'tigerlilly', 'time', 'times', 'tiny', 'tip', 'tiramisu', 'to', 'to-go', 'toast', 'toasted', 'today', 'together', 'told', 'tomato', 'tongue', 'tonight', 'too', 'took', 'top', 'tops', 'total', 'totally', 'tots', 'touch', 'touched', 'tough', 'towards', 'town', 'traditional', 'transcendant', 'trap', 'treat', 'treated', 'tribute', 'tried', 'trimmed', 'trip', 'trippy', 'trips', 'truly', 'try', 'trying', 'tucson', 'tummy', 'tuna', 'turkey', 'turn', 'tv', 'twice', 'two', 'unbelievable', 'unbelievably', 'under', 'under-services', 'undercooked', 'understand', 'underwhelming', 'unexperienced', 'unfortunately', 'unhealthy', 'uninspired', 'unique', 'unless', 'unprofessional', 'unreal', 'unsatisfying', 'until', 'unwelcome', 'up', 'update', 'upgrading', 'uploaded', 'us', 'use', 'used', 'vain', 'valley', 'value', 'vanilla', 'veal', 'vegan/veggie', 'vegas', 'vegetables', 'vegetarian', 'veggitarian', 'ventilation', 'venture', 'venturing', 'venue', 'verge', 'version', 'very', 'via', 'vibe', 'vinaigrette', 'vinegrette', 'violinists', 'visit', 'visited', 'vodka', 'vomited', 'voted', 'wait', 'waited', 'waiter', 'waiting', 'waitress', 'walked', 'wall', 'walls', 'want', 'wanted', 'wants', 'warm', 'warmer', 'warnings', 'was', 'waste', 'wasted', 'wasting', 'watch', 'watched', 'water', 'watered', 'wave', 'way', 'ways', 'wayyy', 'we', 'weak', 'wedges', 'week', 'weekend', 'weekly', 'weird', 'welcome', 'well', 'went', 'were', 'what', 'whatsoever', 'when', 'whenever', 'where', 'which', 'while', 'white', 'who', 'whole', 'why', 'wide', 'wienerschnitzel', 'wife', 'wildly', 'will', 'wine', 'wines', 'wings', 'winner', 'wire', 'wish', 'with', 'without', 'wo', 'wonderful', 'wontons', 'word', 'words', 'work', 'worker', 'workers', 'working/eating', 'works', 'world', 'worries', 'worse', 'worst', 'worst/annoying', 'worth', 'would', 'wound', 'wow', 'wrap', 'wrapped', 'wrong', \"ya'all\", 'yama', 'yay', 'yeah', 'year', 'years', 'yellowtail', 'yelpers', 'yet', 'you', 'your', 'yourself', 'yucky', 'yukon', 'yum', 'yummy', 'zero']\n"
     ]
    }
   ],
   "source": [
    "# tokenizer\n",
    "from nltk.tokenize import word_tokenize\n",
    "\n",
    "\n",
    "# split the data into training set and test set\n",
    "from sklearn.model_selection import train_test_split\n",
    "X_train, X_test, y_train, y_test = train_test_split(feedback_raw['text'].values, \n",
    "                 feedback_raw['target'].values,        \n",
    "                 test_size=0.2)\n",
    "\n",
    "# vectorizer\n",
    "from sklearn.feature_extraction.text import CountVectorizer\n",
    "vect = CountVectorizer(tokenizer=word_tokenize)\n",
    "tf_train = vect.fit_transform(X_train)\n",
    "tf_test = vect.transform(X_test)\n",
    "\n",
    "print(vect.get_feature_names())\n",
    "# import sys\n",
    "# np.set_printoptions(threshold=sys.maxsize)\n",
    "# tf_train.toarray()"
   ]
  },
  {
   "cell_type": "code",
   "execution_count": 4,
   "metadata": {
    "scrolled": true
   },
   "outputs": [
    {
     "name": "stdout",
     "output_type": "stream",
     "text": [
      "the accuracy of logistic regression is :0.85\n"
     ]
    }
   ],
   "source": [
    "# logistic regression\n",
    "# use training dataset to test the test dataset\n",
    "from sklearn.linear_model import LogisticRegression\n",
    "model = LogisticRegression(random_state=0, solver='lbfgs', multi_class='multinomial')\n",
    "model.fit(tf_train, y_train)\n",
    "preds = model.predict(tf_test)\n",
    "accuracy = (preds == y_test).mean()\n",
    "print('the accuracy of logistic regression is :{}'.format(accuracy))"
   ]
  },
  {
   "cell_type": "code",
   "execution_count": 5,
   "metadata": {},
   "outputs": [
    {
     "data": {
      "text/plain": [
       "array([[84, 12],\n",
       "       [18, 86]], dtype=int64)"
      ]
     },
     "execution_count": 5,
     "metadata": {},
     "output_type": "execute_result"
    }
   ],
   "source": [
    "from sklearn.metrics import confusion_matrix\n",
    "\n",
    "#confusion_matrix(tf_test, preds)\n",
    "confusion_matrix(y_test, preds)\n",
    "\n"
   ]
  },
  {
   "cell_type": "code",
   "execution_count": 6,
   "metadata": {},
   "outputs": [
    {
     "data": {
      "text/html": [
       "<div>\n",
       "<style scoped>\n",
       "    .dataframe tbody tr th:only-of-type {\n",
       "        vertical-align: middle;\n",
       "    }\n",
       "\n",
       "    .dataframe tbody tr th {\n",
       "        vertical-align: top;\n",
       "    }\n",
       "\n",
       "    .dataframe thead th {\n",
       "        text-align: right;\n",
       "    }\n",
       "</style>\n",
       "<table border=\"1\" class=\"dataframe\">\n",
       "  <thead>\n",
       "    <tr style=\"text-align: right;\">\n",
       "      <th>Predicted</th>\n",
       "      <th>0</th>\n",
       "      <th>1</th>\n",
       "      <th>All</th>\n",
       "    </tr>\n",
       "    <tr>\n",
       "      <th>True</th>\n",
       "      <th></th>\n",
       "      <th></th>\n",
       "      <th></th>\n",
       "    </tr>\n",
       "  </thead>\n",
       "  <tbody>\n",
       "    <tr>\n",
       "      <th>0</th>\n",
       "      <td>84</td>\n",
       "      <td>12</td>\n",
       "      <td>96</td>\n",
       "    </tr>\n",
       "    <tr>\n",
       "      <th>1</th>\n",
       "      <td>18</td>\n",
       "      <td>86</td>\n",
       "      <td>104</td>\n",
       "    </tr>\n",
       "    <tr>\n",
       "      <th>All</th>\n",
       "      <td>102</td>\n",
       "      <td>98</td>\n",
       "      <td>200</td>\n",
       "    </tr>\n",
       "  </tbody>\n",
       "</table>\n",
       "</div>"
      ],
      "text/plain": [
       "Predicted    0   1  All\n",
       "True                   \n",
       "0           84  12   96\n",
       "1           18  86  104\n",
       "All        102  98  200"
      ]
     },
     "metadata": {},
     "output_type": "display_data"
    }
   ],
   "source": [
    "cm= pd.crosstab(y_test, preds, rownames=['True'], colnames=['Predicted'], margins=True)\n",
    "display(cm)"
   ]
  },
  {
   "cell_type": "code",
   "execution_count": 7,
   "metadata": {},
   "outputs": [
    {
     "name": "stdout",
     "output_type": "stream",
     "text": [
      "the accuracy is 0.85\n",
      "type I error is 0.06\n",
      "type II error is 0.09\n"
     ]
    }
   ],
   "source": [
    "print('the accuracy is {}'.format((cm.iloc[0,0]+cm.iloc[1,1])/cm.iloc[2,2]))\n",
    "print('type I error is {}'.format(cm.iloc[0,1]/cm.iloc[2,2]))\n",
    "print('type II error is {}'.format(cm.iloc[1,0]/cm.iloc[2,2]))"
   ]
  },
  {
   "cell_type": "code",
   "execution_count": 8,
   "metadata": {},
   "outputs": [
    {
     "name": "stdout",
     "output_type": "stream",
     "text": [
      "the accuracy of multinomial naive bayes is :0.815\n"
     ]
    }
   ],
   "source": [
    "# multinomial naive bayes model\n",
    "from sklearn.naive_bayes import MultinomialNB\n",
    "modelMNB = MultinomialNB()\n",
    "modelMNB.fit(tf_train, y_train)\n",
    "preds = modelMNB.predict(tf_test)\n",
    "accuracy = (preds == y_test).mean()\n",
    "print('the accuracy of multinomial naive bayes is :{}'.format(accuracy))"
   ]
  },
  {
   "cell_type": "markdown",
   "metadata": {},
   "source": [
    "# Do any of your classifiers seem to overfit?"
   ]
  },
  {
   "cell_type": "code",
   "execution_count": 9,
   "metadata": {},
   "outputs": [
    {
     "data": {
      "text/plain": [
       "array([0.81481481, 0.83950617, 0.75308642, 0.91358025, 0.8375    ,\n",
       "       0.8375    , 0.82278481, 0.73417722, 0.79746835, 0.79746835])"
      ]
     },
     "execution_count": 9,
     "metadata": {},
     "output_type": "execute_result"
    }
   ],
   "source": [
    "from sklearn.model_selection import cross_val_score\n",
    "cross_val_score(model, tf_train, y_train, cv=10)"
   ]
  },
  {
   "cell_type": "code",
   "execution_count": 10,
   "metadata": {},
   "outputs": [
    {
     "data": {
      "text/plain": [
       "array([0.80246914, 0.85185185, 0.79012346, 0.7654321 , 0.8125    ,\n",
       "       0.7125    , 0.82278481, 0.74683544, 0.82278481, 0.81012658])"
      ]
     },
     "execution_count": 10,
     "metadata": {},
     "output_type": "execute_result"
    }
   ],
   "source": [
    "from sklearn.model_selection import cross_val_score\n",
    "cross_val_score(modelMNB, tf_train, y_train, cv=10)"
   ]
  },
  {
   "cell_type": "markdown",
   "metadata": {},
   "source": [
    "Both multinomial Naive Bayes and multinomial logistic regression works well. Although we see the accuracy score varies from 0.7 to 0.86, no overfitting is observed.  "
   ]
  },
  {
   "cell_type": "markdown",
   "metadata": {},
   "source": [
    "# Which seem to perform the best? Why?"
   ]
  },
  {
   "cell_type": "markdown",
   "metadata": {},
   "source": [
    "Logistic regression and MNB model both produce very descent result with accuracy in the test dataset 0.85 and 0.82 respectively.  Logistic regression seems to perform a bit better.  "
   ]
  },
  {
   "cell_type": "markdown",
   "metadata": {},
   "source": [
    "# Which features seemed to be most impactful to performance?"
   ]
  },
  {
   "cell_type": "markdown",
   "metadata": {},
   "source": [
    "The word tokenizer is a very powerful tool and by tuning it, we can get a better result.  For example, we may include the stopwords in the tokenizer.  The performance do not vary much on different models once the bag of words have been collected.  "
   ]
  },
  {
   "cell_type": "code",
   "execution_count": null,
   "metadata": {},
   "outputs": [],
   "source": []
  }
 ],
 "metadata": {
  "kernelspec": {
   "display_name": "Python 3",
   "language": "python",
   "name": "python3"
  },
  "language_info": {
   "codemirror_mode": {
    "name": "ipython",
    "version": 3
   },
   "file_extension": ".py",
   "mimetype": "text/x-python",
   "name": "python",
   "nbconvert_exporter": "python",
   "pygments_lexer": "ipython3",
   "version": "3.7.3"
  },
  "latex_envs": {
   "LaTeX_envs_menu_present": true,
   "autoclose": false,
   "autocomplete": true,
   "bibliofile": "biblio.bib",
   "cite_by": "apalike",
   "current_citInitial": 1,
   "eqLabelWithNumbers": true,
   "eqNumInitial": 1,
   "hotkeys": {
    "equation": "Ctrl-E",
    "itemize": "Ctrl-I"
   },
   "labels_anchors": false,
   "latex_user_defs": false,
   "report_style_numbering": false,
   "user_envs_cfg": false
  },
  "toc": {
   "base_numbering": 1,
   "nav_menu": {},
   "number_sections": true,
   "sideBar": true,
   "skip_h1_title": false,
   "title_cell": "Table of Contents",
   "title_sidebar": "Contents",
   "toc_cell": false,
   "toc_position": {},
   "toc_section_display": true,
   "toc_window_display": false
  }
 },
 "nbformat": 4,
 "nbformat_minor": 2
}
